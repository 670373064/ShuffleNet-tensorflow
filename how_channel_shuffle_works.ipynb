{
 "cells": [
  {
   "cell_type": "code",
   "execution_count": 1,
   "metadata": {
    "collapsed": true
   },
   "outputs": [],
   "source": [
    "import numpy as np\n",
    "import tensorflow as tf"
   ]
  },
  {
   "cell_type": "markdown",
   "metadata": {},
   "source": [
    "# Numpy"
   ]
  },
  {
   "cell_type": "code",
   "execution_count": 2,
   "metadata": {
    "collapsed": true
   },
   "outputs": [],
   "source": [
    "# channels:\n",
    "x = np.array([0, 1, 2, 3, 4, 5, 6, 7, 8, 9, 10, 11])\n",
    "groups = 4"
   ]
  },
  {
   "cell_type": "code",
   "execution_count": 3,
   "metadata": {
    "collapsed": true
   },
   "outputs": [],
   "source": [
    "def channel_shuffle(x, groups):\n",
    "    channels_per_group = int(len(x)/groups)\n",
    "    # main algorithm:\n",
    "    x = x.reshape(groups, channels_per_group)\n",
    "    x = x.T\n",
    "    x = x.reshape(groups*channels_per_group)\n",
    "    return x"
   ]
  },
  {
   "cell_type": "code",
   "execution_count": 4,
   "metadata": {},
   "outputs": [],
   "source": [
    "def print_grouped(x, groups):\n",
    "    channels_per_group = int(len(x)/groups)\n",
    "    s = []\n",
    "    for i, v in enumerate(x):\n",
    "        if i % channels_per_group == 0:\n",
    "            s += ['|']\n",
    "        s += [str(v)]\n",
    "    s += ['|']\n",
    "    return ' '.join(s)"
   ]
  },
  {
   "cell_type": "code",
   "execution_count": 5,
   "metadata": {},
   "outputs": [
    {
     "data": {
      "text/plain": [
       "'| 0 1 2 | 3 4 5 | 6 7 8 | 9 10 11 |'"
      ]
     },
     "execution_count": 5,
     "metadata": {},
     "output_type": "execute_result"
    }
   ],
   "source": [
    "# before\n",
    "print_grouped(x, groups)"
   ]
  },
  {
   "cell_type": "code",
   "execution_count": 6,
   "metadata": {},
   "outputs": [
    {
     "data": {
      "text/plain": [
       "'| 0 3 6 | 9 1 4 | 7 10 2 | 5 8 11 |'"
      ]
     },
     "execution_count": 6,
     "metadata": {},
     "output_type": "execute_result"
    }
   ],
   "source": [
    "# and after channel shuffle\n",
    "print_grouped(channel_shuffle(x, groups), groups)"
   ]
  },
  {
   "cell_type": "code",
   "execution_count": 7,
   "metadata": {
    "collapsed": true
   },
   "outputs": [],
   "source": [
    "# change number of groups\n",
    "groups = 3\n",
    "# and try again:"
   ]
  },
  {
   "cell_type": "code",
   "execution_count": 8,
   "metadata": {},
   "outputs": [
    {
     "data": {
      "text/plain": [
       "'| 0 1 2 3 | 4 5 6 7 | 8 9 10 11 |'"
      ]
     },
     "execution_count": 8,
     "metadata": {},
     "output_type": "execute_result"
    }
   ],
   "source": [
    "print_grouped(x, groups)"
   ]
  },
  {
   "cell_type": "code",
   "execution_count": 9,
   "metadata": {},
   "outputs": [
    {
     "data": {
      "text/plain": [
       "'| 0 4 8 1 | 5 9 2 6 | 10 3 7 11 |'"
      ]
     },
     "execution_count": 9,
     "metadata": {},
     "output_type": "execute_result"
    }
   ],
   "source": [
    "print_grouped(channel_shuffle(x, groups), groups)"
   ]
  },
  {
   "cell_type": "markdown",
   "metadata": {},
   "source": [
    "# Tensorflow"
   ]
  },
  {
   "cell_type": "code",
   "execution_count": 10,
   "metadata": {
    "collapsed": true
   },
   "outputs": [],
   "source": [
    "def tf_channel_shuffle(X, groups):\n",
    "    height, width, in_channels = X.shape.as_list()[1:]\n",
    "    in_channels_per_group = int(in_channels/groups)\n",
    "\n",
    "    shape = tf.stack([-1, height, width, groups, in_channels_per_group])\n",
    "    X = tf.reshape(X, shape)\n",
    "    \n",
    "    X = tf.transpose(X, [0, 1, 2, 4, 3])\n",
    "    \n",
    "    shape = tf.stack([-1, height, width, in_channels])\n",
    "    X = tf.reshape(X, shape)\n",
    "    return X"
   ]
  },
  {
   "cell_type": "code",
   "execution_count": 11,
   "metadata": {},
   "outputs": [
    {
     "name": "stdout",
     "output_type": "stream",
     "text": [
      "[[[[ 0.   1.   2.   3.   4.   5.   6.   7.   8. ]\n",
      "   [ 0.   1.   2.   3.   4.   5.   6.   7.   8. ]\n",
      "   [ 0.   1.   2.   3.   4.   5.   6.   7.   8. ]\n",
      "   [ 0.   1.   2.   3.   4.   5.   6.   7.   8. ]]\n",
      "\n",
      "  [[ 0.   1.   2.   3.   4.   5.   6.   7.   8. ]\n",
      "   [ 0.   1.   2.   3.   4.   5.   6.   7.   8. ]\n",
      "   [ 0.   1.   2.   3.   4.   5.   6.   7.   8. ]\n",
      "   [ 0.   1.   2.   3.   4.   5.   6.   7.   8. ]]\n",
      "\n",
      "  [[ 0.   1.   2.   3.   4.   5.   6.   7.   8. ]\n",
      "   [ 0.   1.   2.   3.   4.   5.   6.   7.   8. ]\n",
      "   [ 0.   1.   2.   3.   4.   5.   6.   7.   8. ]\n",
      "   [ 0.   1.   2.   3.   4.   5.   6.   7.   8. ]]]\n",
      "\n",
      "\n",
      " [[[ 0.5  1.5  2.5  3.5  4.5  5.5  6.5  7.5  8.5]\n",
      "   [ 0.5  1.5  2.5  3.5  4.5  5.5  6.5  7.5  8.5]\n",
      "   [ 0.5  1.5  2.5  3.5  4.5  5.5  6.5  7.5  8.5]\n",
      "   [ 0.5  1.5  2.5  3.5  4.5  5.5  6.5  7.5  8.5]]\n",
      "\n",
      "  [[ 0.5  1.5  2.5  3.5  4.5  5.5  6.5  7.5  8.5]\n",
      "   [ 0.5  1.5  2.5  3.5  4.5  5.5  6.5  7.5  8.5]\n",
      "   [ 0.5  1.5  2.5  3.5  4.5  5.5  6.5  7.5  8.5]\n",
      "   [ 0.5  1.5  2.5  3.5  4.5  5.5  6.5  7.5  8.5]]\n",
      "\n",
      "  [[ 0.5  1.5  2.5  3.5  4.5  5.5  6.5  7.5  8.5]\n",
      "   [ 0.5  1.5  2.5  3.5  4.5  5.5  6.5  7.5  8.5]\n",
      "   [ 0.5  1.5  2.5  3.5  4.5  5.5  6.5  7.5  8.5]\n",
      "   [ 0.5  1.5  2.5  3.5  4.5  5.5  6.5  7.5  8.5]]]]\n"
     ]
    }
   ],
   "source": [
    "# two images with height=3, width=4, channels=9\n",
    "batch = np.stack([\n",
    "    np.stack([i*np.ones((3, 4)) for i in range(0, 9)], axis=-1),\n",
    "    np.stack([(i + 0.5)*np.ones((3, 4)) for i in range(0, 9)], axis=-1)\n",
    "])\n",
    "print(batch)"
   ]
  },
  {
   "cell_type": "code",
   "execution_count": 12,
   "metadata": {},
   "outputs": [
    {
     "name": "stdout",
     "output_type": "stream",
     "text": [
      "[[[[ 0.   3.   6.   1.   4.   7.   2.   5.   8. ]\n",
      "   [ 0.   3.   6.   1.   4.   7.   2.   5.   8. ]\n",
      "   [ 0.   3.   6.   1.   4.   7.   2.   5.   8. ]\n",
      "   [ 0.   3.   6.   1.   4.   7.   2.   5.   8. ]]\n",
      "\n",
      "  [[ 0.   3.   6.   1.   4.   7.   2.   5.   8. ]\n",
      "   [ 0.   3.   6.   1.   4.   7.   2.   5.   8. ]\n",
      "   [ 0.   3.   6.   1.   4.   7.   2.   5.   8. ]\n",
      "   [ 0.   3.   6.   1.   4.   7.   2.   5.   8. ]]\n",
      "\n",
      "  [[ 0.   3.   6.   1.   4.   7.   2.   5.   8. ]\n",
      "   [ 0.   3.   6.   1.   4.   7.   2.   5.   8. ]\n",
      "   [ 0.   3.   6.   1.   4.   7.   2.   5.   8. ]\n",
      "   [ 0.   3.   6.   1.   4.   7.   2.   5.   8. ]]]\n",
      "\n",
      "\n",
      " [[[ 0.5  3.5  6.5  1.5  4.5  7.5  2.5  5.5  8.5]\n",
      "   [ 0.5  3.5  6.5  1.5  4.5  7.5  2.5  5.5  8.5]\n",
      "   [ 0.5  3.5  6.5  1.5  4.5  7.5  2.5  5.5  8.5]\n",
      "   [ 0.5  3.5  6.5  1.5  4.5  7.5  2.5  5.5  8.5]]\n",
      "\n",
      "  [[ 0.5  3.5  6.5  1.5  4.5  7.5  2.5  5.5  8.5]\n",
      "   [ 0.5  3.5  6.5  1.5  4.5  7.5  2.5  5.5  8.5]\n",
      "   [ 0.5  3.5  6.5  1.5  4.5  7.5  2.5  5.5  8.5]\n",
      "   [ 0.5  3.5  6.5  1.5  4.5  7.5  2.5  5.5  8.5]]\n",
      "\n",
      "  [[ 0.5  3.5  6.5  1.5  4.5  7.5  2.5  5.5  8.5]\n",
      "   [ 0.5  3.5  6.5  1.5  4.5  7.5  2.5  5.5  8.5]\n",
      "   [ 0.5  3.5  6.5  1.5  4.5  7.5  2.5  5.5  8.5]\n",
      "   [ 0.5  3.5  6.5  1.5  4.5  7.5  2.5  5.5  8.5]]]]\n"
     ]
    }
   ],
   "source": [
    "tf.reset_default_graph()\n",
    "\n",
    "P = tf.placeholder(tf.float32, shape=[None, 3, 4, 9])\n",
    "X = tf_channel_shuffle(P, groups=3)\n",
    "\n",
    "with tf.Session() as sess:\n",
    "    x = sess.run(X, feed_dict={P: batch})\n",
    "    print(x)"
   ]
  }
 ],
 "metadata": {
  "kernelspec": {
   "display_name": "Python 3",
   "language": "python",
   "name": "python3"
  },
  "language_info": {
   "codemirror_mode": {
    "name": "ipython",
    "version": 3
   },
   "file_extension": ".py",
   "mimetype": "text/x-python",
   "name": "python",
   "nbconvert_exporter": "python",
   "pygments_lexer": "ipython3",
   "version": "3.6.2"
  }
 },
 "nbformat": 4,
 "nbformat_minor": 2
}
